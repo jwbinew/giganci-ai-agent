{
  "cells": [
    {
      "cell_type": "code",
      "source": [
        "!git clone https://github.com/jwbinew/giganci-ai-agent.git\n",
        "# © 2025 Jarosław Brzeziński\n",
        "# Ten kod jest własnością autora i nie może być używany bez zgody."
      ],
      "metadata": {
        "id": "wtG-uterlZNH"
      },
      "execution_count": null,
      "outputs": []
    },
    {
      "cell_type": "code",
      "execution_count": null,
      "metadata": {
        "id": "aihfuouL58GD"
      },
      "outputs": [],
      "source": [
        "%cd giganci-ai-agent"
      ]
    },
    {
      "cell_type": "code",
      "source": [
        "!cp .env.example .env"
      ],
      "metadata": {
        "id": "XjG3dwdMmEtW"
      },
      "execution_count": null,
      "outputs": []
    },
    {
      "cell_type": "code",
      "source": [
        "!cat .env"
      ],
      "metadata": {
        "id": "gdjIAZ2fnNzR"
      },
      "execution_count": null,
      "outputs": []
    },
    {
      "cell_type": "code",
      "source": [
        "# secret\n",
        "!echo \"OPENAI_API_KEY=sk-\" > .env\n",
        "!echo \"LIVEKIT_API_KEY=\" >> .env\n",
        "!echo \"LIVEKIT_API_SECRET=\" >> .env\n",
        "!echo \"LIVEKIT_URL=wss://giganci-programowania-ai-poc-an8zja0j.livekit.cloud\" >> .env"
      ],
      "metadata": {
        "id": "yfLdTrGxmY1N"
      },
      "execution_count": null,
      "outputs": []
    },
    {
      "cell_type": "code",
      "source": [
        "!pip install -r requirements.txt -qq"
      ],
      "metadata": {
        "id": "3EKMJh9nmmKD"
      },
      "execution_count": null,
      "outputs": []
    },
    {
      "cell_type": "code",
      "source": [
        "!pip show livekit-agents"
      ],
      "metadata": {
        "id": "SgosXtIyq6rn"
      },
      "execution_count": null,
      "outputs": []
    },
    {
      "cell_type": "code",
      "source": [
        "from livekit.agents import Agent, AgentSession, JobContext, WorkerOptions\n",
        "from livekit.plugins import openai, deepgram, silero"
      ],
      "metadata": {
        "id": "KYPIA9wlnoc9"
      },
      "execution_count": null,
      "outputs": []
    },
    {
      "cell_type": "code",
      "source": [
        "from google.colab import files\n",
        "uploaded = files.upload()"
      ],
      "metadata": {
        "id": "JH-0NkkQwzBP"
      },
      "execution_count": null,
      "outputs": []
    },
    {
      "cell_type": "code",
      "source": [
        "!python agent.py"
      ],
      "metadata": {
        "id": "uSwQzJpxrIUq"
      },
      "execution_count": null,
      "outputs": []
    },
    {
      "cell_type": "code",
      "source": [
        "# !python agent.py dev"
      ],
      "metadata": {
        "id": "HSsshgrvyP37"
      },
      "execution_count": null,
      "outputs": []
    },
    {
      "cell_type": "code",
      "source": [
        "!python agent.py start\n"
      ],
      "metadata": {
        "id": "-OVW24_juboD"
      },
      "execution_count": null,
      "outputs": []
    },
    {
      "cell_type": "code",
      "source": [],
      "metadata": {
        "id": "_tf5Vb-SynqS"
      },
      "execution_count": null,
      "outputs": []
    }
  ],
  "metadata": {
    "colab": {
      "provenance": []
    },
    "kernelspec": {
      "display_name": "Python 3",
      "name": "python3"
    },
    "language_info": {
      "name": "python"
    }
  },
  "nbformat": 4,
  "nbformat_minor": 0
}