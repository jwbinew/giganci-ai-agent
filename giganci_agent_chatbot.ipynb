{
  "cells": [
    {
      "cell_type": "code",
      "source": [
        "!git clone https://github.com/jwbinew/giganci-ai-agent.git\n",
        "# © 2025 Jarosław Brzeziński\n",
        "# Ten kod jest własnością autora i nie może być używany bez zgody."
      ],
      "metadata": {
        "id": "wtG-uterlZNH",
        "colab": {
          "base_uri": "https://localhost:8080/"
        },
        "outputId": "f292233d-6074-40d0-b491-cc4e526f921f"
      },
      "execution_count": 16,
      "outputs": [
        {
          "output_type": "stream",
          "name": "stdout",
          "text": [
            "Cloning into 'giganci-ai-agent'...\n",
            "remote: Enumerating objects: 33, done.\u001b[K\n",
            "remote: Counting objects: 100% (33/33), done.\u001b[K\n",
            "remote: Compressing objects: 100% (31/31), done.\u001b[K\n",
            "remote: Total 33 (delta 10), reused 0 (delta 0), pack-reused 0 (from 0)\u001b[K\n",
            "Receiving objects: 100% (33/33), 15.20 KiB | 389.00 KiB/s, done.\n",
            "Resolving deltas: 100% (10/10), done.\n"
          ]
        }
      ]
    },
    {
      "cell_type": "code",
      "execution_count": 17,
      "metadata": {
        "id": "aihfuouL58GD",
        "colab": {
          "base_uri": "https://localhost:8080/"
        },
        "outputId": "888b0591-b128-40e3-911d-265b354903d6"
      },
      "outputs": [
        {
          "output_type": "stream",
          "name": "stdout",
          "text": [
            "/content/giganci-ai-agent/giganci-ai-agent\n"
          ]
        }
      ],
      "source": [
        "%cd giganci-ai-agent"
      ]
    },
    {
      "cell_type": "code",
      "source": [
        "!cp .env.example .env"
      ],
      "metadata": {
        "id": "XjG3dwdMmEtW"
      },
      "execution_count": 18,
      "outputs": []
    },
    {
      "cell_type": "code",
      "source": [
        "!cat .env"
      ],
      "metadata": {
        "colab": {
          "base_uri": "https://localhost:8080/"
        },
        "id": "gdjIAZ2fnNzR",
        "outputId": "1169f0ad-6a42-4382-9f75-e2205262b4f5"
      },
      "execution_count": 19,
      "outputs": [
        {
          "output_type": "stream",
          "name": "stdout",
          "text": [
            "OPENAI_API_KEY=sk-...\n",
            "LIVEKIT_API_KEY=lk_...\n",
            "LIVEKIT_API_SECRET=...\n",
            "LIVEKIT_URL=wss://yourproject.livekit.cloud\n"
          ]
        }
      ]
    },
    {
      "cell_type": "code",
      "source": [
        "# secret\n",
        "!echo \"OPENAI_API_KEY=sk-\" > .env\n",
        "!echo \"LIVEKIT_API_KEY=\" >> .env\n",
        "!echo \"LIVEKIT_API_SECRET=\" >> .env\n",
        "!echo \"LIVEKIT_URL=wss://giganci-programowania-ai-poc-an8zja0j.livekit.cloud\" >> .env"
      ],
      "metadata": {
        "id": "yfLdTrGxmY1N"
      },
      "execution_count": 20,
      "outputs": []
    },
    {
      "cell_type": "code",
      "source": [
        "!pip install -r requirements.txt -qq"
      ],
      "metadata": {
        "id": "3EKMJh9nmmKD"
      },
      "execution_count": 21,
      "outputs": []
    },
    {
      "cell_type": "code",
      "source": [
        "!pip show livekit-agents"
      ],
      "metadata": {
        "id": "SgosXtIyq6rn",
        "colab": {
          "base_uri": "https://localhost:8080/"
        },
        "outputId": "d5c6a7e0-4387-4d78-f313-da9339b34cfd"
      },
      "execution_count": 22,
      "outputs": [
        {
          "output_type": "stream",
          "name": "stdout",
          "text": [
            "Name: livekit-agents\n",
            "Version: 1.2.4\n",
            "Summary: A powerful framework for building realtime voice AI agents\n",
            "Home-page: \n",
            "Author: \n",
            "Author-email: LiveKit <hello@livekit.io>\n",
            "License: \n",
            "Location: /usr/local/lib/python3.11/dist-packages\n",
            "Requires: aiohttp, av, click, colorama, docstring-parser, eval-type-backport, livekit, livekit-api, livekit-blingfire, livekit-protocol, nest-asyncio, numpy, opentelemetry-api, opentelemetry-exporter-otlp, opentelemetry-sdk, prometheus-client, protobuf, psutil, pydantic, pyjwt, sounddevice, types-protobuf, typing-extensions, watchfiles\n",
            "Required-by: livekit-plugins-deepgram, livekit-plugins-openai, livekit-plugins-silero\n"
          ]
        }
      ]
    },
    {
      "cell_type": "code",
      "source": [
        "from livekit.agents import Agent, AgentSession, JobContext, WorkerOptions\n",
        "from livekit.plugins import openai, deepgram, silero"
      ],
      "metadata": {
        "id": "KYPIA9wlnoc9"
      },
      "execution_count": 23,
      "outputs": []
    },
    {
      "cell_type": "code",
      "source": [
        "from google.colab import files\n",
        "uploaded = files.upload()"
      ],
      "metadata": {
        "id": "JH-0NkkQwzBP",
        "colab": {
          "base_uri": "https://localhost:8080/",
          "height": 73
        },
        "outputId": "6c516b81-ca2b-4f0b-e6d3-558a5ea1b235"
      },
      "execution_count": 24,
      "outputs": [
        {
          "output_type": "display_data",
          "data": {
            "text/plain": [
              "<IPython.core.display.HTML object>"
            ],
            "text/html": [
              "\n",
              "     <input type=\"file\" id=\"files-01553900-f8de-4931-aaa2-a5d4dec5f9a1\" name=\"files[]\" multiple disabled\n",
              "        style=\"border:none\" />\n",
              "     <output id=\"result-01553900-f8de-4931-aaa2-a5d4dec5f9a1\">\n",
              "      Upload widget is only available when the cell has been executed in the\n",
              "      current browser session. Please rerun this cell to enable.\n",
              "      </output>\n",
              "      <script>// Copyright 2017 Google LLC\n",
              "//\n",
              "// Licensed under the Apache License, Version 2.0 (the \"License\");\n",
              "// you may not use this file except in compliance with the License.\n",
              "// You may obtain a copy of the License at\n",
              "//\n",
              "//      http://www.apache.org/licenses/LICENSE-2.0\n",
              "//\n",
              "// Unless required by applicable law or agreed to in writing, software\n",
              "// distributed under the License is distributed on an \"AS IS\" BASIS,\n",
              "// WITHOUT WARRANTIES OR CONDITIONS OF ANY KIND, either express or implied.\n",
              "// See the License for the specific language governing permissions and\n",
              "// limitations under the License.\n",
              "\n",
              "/**\n",
              " * @fileoverview Helpers for google.colab Python module.\n",
              " */\n",
              "(function(scope) {\n",
              "function span(text, styleAttributes = {}) {\n",
              "  const element = document.createElement('span');\n",
              "  element.textContent = text;\n",
              "  for (const key of Object.keys(styleAttributes)) {\n",
              "    element.style[key] = styleAttributes[key];\n",
              "  }\n",
              "  return element;\n",
              "}\n",
              "\n",
              "// Max number of bytes which will be uploaded at a time.\n",
              "const MAX_PAYLOAD_SIZE = 100 * 1024;\n",
              "\n",
              "function _uploadFiles(inputId, outputId) {\n",
              "  const steps = uploadFilesStep(inputId, outputId);\n",
              "  const outputElement = document.getElementById(outputId);\n",
              "  // Cache steps on the outputElement to make it available for the next call\n",
              "  // to uploadFilesContinue from Python.\n",
              "  outputElement.steps = steps;\n",
              "\n",
              "  return _uploadFilesContinue(outputId);\n",
              "}\n",
              "\n",
              "// This is roughly an async generator (not supported in the browser yet),\n",
              "// where there are multiple asynchronous steps and the Python side is going\n",
              "// to poll for completion of each step.\n",
              "// This uses a Promise to block the python side on completion of each step,\n",
              "// then passes the result of the previous step as the input to the next step.\n",
              "function _uploadFilesContinue(outputId) {\n",
              "  const outputElement = document.getElementById(outputId);\n",
              "  const steps = outputElement.steps;\n",
              "\n",
              "  const next = steps.next(outputElement.lastPromiseValue);\n",
              "  return Promise.resolve(next.value.promise).then((value) => {\n",
              "    // Cache the last promise value to make it available to the next\n",
              "    // step of the generator.\n",
              "    outputElement.lastPromiseValue = value;\n",
              "    return next.value.response;\n",
              "  });\n",
              "}\n",
              "\n",
              "/**\n",
              " * Generator function which is called between each async step of the upload\n",
              " * process.\n",
              " * @param {string} inputId Element ID of the input file picker element.\n",
              " * @param {string} outputId Element ID of the output display.\n",
              " * @return {!Iterable<!Object>} Iterable of next steps.\n",
              " */\n",
              "function* uploadFilesStep(inputId, outputId) {\n",
              "  const inputElement = document.getElementById(inputId);\n",
              "  inputElement.disabled = false;\n",
              "\n",
              "  const outputElement = document.getElementById(outputId);\n",
              "  outputElement.innerHTML = '';\n",
              "\n",
              "  const pickedPromise = new Promise((resolve) => {\n",
              "    inputElement.addEventListener('change', (e) => {\n",
              "      resolve(e.target.files);\n",
              "    });\n",
              "  });\n",
              "\n",
              "  const cancel = document.createElement('button');\n",
              "  inputElement.parentElement.appendChild(cancel);\n",
              "  cancel.textContent = 'Cancel upload';\n",
              "  const cancelPromise = new Promise((resolve) => {\n",
              "    cancel.onclick = () => {\n",
              "      resolve(null);\n",
              "    };\n",
              "  });\n",
              "\n",
              "  // Wait for the user to pick the files.\n",
              "  const files = yield {\n",
              "    promise: Promise.race([pickedPromise, cancelPromise]),\n",
              "    response: {\n",
              "      action: 'starting',\n",
              "    }\n",
              "  };\n",
              "\n",
              "  cancel.remove();\n",
              "\n",
              "  // Disable the input element since further picks are not allowed.\n",
              "  inputElement.disabled = true;\n",
              "\n",
              "  if (!files) {\n",
              "    return {\n",
              "      response: {\n",
              "        action: 'complete',\n",
              "      }\n",
              "    };\n",
              "  }\n",
              "\n",
              "  for (const file of files) {\n",
              "    const li = document.createElement('li');\n",
              "    li.append(span(file.name, {fontWeight: 'bold'}));\n",
              "    li.append(span(\n",
              "        `(${file.type || 'n/a'}) - ${file.size} bytes, ` +\n",
              "        `last modified: ${\n",
              "            file.lastModifiedDate ? file.lastModifiedDate.toLocaleDateString() :\n",
              "                                    'n/a'} - `));\n",
              "    const percent = span('0% done');\n",
              "    li.appendChild(percent);\n",
              "\n",
              "    outputElement.appendChild(li);\n",
              "\n",
              "    const fileDataPromise = new Promise((resolve) => {\n",
              "      const reader = new FileReader();\n",
              "      reader.onload = (e) => {\n",
              "        resolve(e.target.result);\n",
              "      };\n",
              "      reader.readAsArrayBuffer(file);\n",
              "    });\n",
              "    // Wait for the data to be ready.\n",
              "    let fileData = yield {\n",
              "      promise: fileDataPromise,\n",
              "      response: {\n",
              "        action: 'continue',\n",
              "      }\n",
              "    };\n",
              "\n",
              "    // Use a chunked sending to avoid message size limits. See b/62115660.\n",
              "    let position = 0;\n",
              "    do {\n",
              "      const length = Math.min(fileData.byteLength - position, MAX_PAYLOAD_SIZE);\n",
              "      const chunk = new Uint8Array(fileData, position, length);\n",
              "      position += length;\n",
              "\n",
              "      const base64 = btoa(String.fromCharCode.apply(null, chunk));\n",
              "      yield {\n",
              "        response: {\n",
              "          action: 'append',\n",
              "          file: file.name,\n",
              "          data: base64,\n",
              "        },\n",
              "      };\n",
              "\n",
              "      let percentDone = fileData.byteLength === 0 ?\n",
              "          100 :\n",
              "          Math.round((position / fileData.byteLength) * 100);\n",
              "      percent.textContent = `${percentDone}% done`;\n",
              "\n",
              "    } while (position < fileData.byteLength);\n",
              "  }\n",
              "\n",
              "  // All done.\n",
              "  yield {\n",
              "    response: {\n",
              "      action: 'complete',\n",
              "    }\n",
              "  };\n",
              "}\n",
              "\n",
              "scope.google = scope.google || {};\n",
              "scope.google.colab = scope.google.colab || {};\n",
              "scope.google.colab._files = {\n",
              "  _uploadFiles,\n",
              "  _uploadFilesContinue,\n",
              "};\n",
              "})(self);\n",
              "</script> "
            ]
          },
          "metadata": {}
        },
        {
          "output_type": "stream",
          "name": "stdout",
          "text": [
            "Saving Konspekt - Batyskaf.docx.pdf to Konspekt - Batyskaf.docx.pdf\n"
          ]
        }
      ]
    },
    {
      "cell_type": "code",
      "source": [
        "!python agent.py"
      ],
      "metadata": {
        "id": "uSwQzJpxrIUq",
        "colab": {
          "base_uri": "https://localhost:8080/"
        },
        "outputId": "206a3cc9-f68c-4109-e136-dd05dabd9c20"
      },
      "execution_count": 25,
      "outputs": [
        {
          "output_type": "stream",
          "name": "stdout",
          "text": [
            "Wczytuję plik PDF: Konspekt - Batyskaf.docx.pdf\n",
            "Usage: agent.py [OPTIONS] COMMAND [ARGS]...\n",
            "\n",
            "Options:\n",
            "  --help  Show this message and exit.\n",
            "\n",
            "Commands:\n",
            "  connect         Connect to a specific room\n",
            "  console         Start a new conversation inside the console\n",
            "  dev             Start the worker in development mode\n",
            "  download-files  Download plugin dependency files\n",
            "  start           Start the worker in production mode.\n"
          ]
        }
      ]
    },
    {
      "cell_type": "code",
      "source": [
        "#!python agent.py dev"
      ],
      "metadata": {
        "id": "HSsshgrvyP37"
      },
      "execution_count": 26,
      "outputs": []
    },
    {
      "cell_type": "code",
      "source": [
        "!python agent.py start\n"
      ],
      "metadata": {
        "id": "-OVW24_juboD",
        "colab": {
          "base_uri": "https://localhost:8080/"
        },
        "outputId": "94333dcb-7134-4237-de53-6b55a057a116"
      },
      "execution_count": 27,
      "outputs": [
        {
          "output_type": "stream",
          "name": "stdout",
          "text": [
            "Wczytuję plik PDF: Konspekt - Batyskaf.docx.pdf\n",
            "{\"message\": \"starting worker\", \"level\": \"INFO\", \"name\": \"livekit.agents\", \"version\": \"1.2.4\", \"rtc-version\": \"1.0.12\", \"timestamp\": \"2025-08-08T21:17:19.405056+00:00\"}\n",
            "{\"message\": \"preloading plugins\", \"level\": \"INFO\", \"name\": \"livekit.agents\", \"packages\": [\"livekit.plugins.openai\", \"livekit.plugins.silero\", \"av\"], \"timestamp\": \"2025-08-08T21:17:19.405265+00:00\"}\n",
            "{\"message\": \"initializing process\", \"level\": \"INFO\", \"name\": \"livekit.agents\", \"pid\": 31815, \"timestamp\": \"2025-08-08T21:17:21.534508+00:00\"}\n",
            "{\"message\": \"initializing process\", \"level\": \"INFO\", \"name\": \"livekit.agents\", \"pid\": 31817, \"timestamp\": \"2025-08-08T21:17:21.534920+00:00\"}\n",
            "Wczytuję plik PDF: Konspekt - Batyskaf.docx.pdf\n",
            "Wczytuję plik PDF: Konspekt - Batyskaf.docx.pdf\n",
            "{\"message\": \"process initialized\", \"level\": \"INFO\", \"name\": \"livekit.agents\", \"pid\": 31815, \"elapsed_time\": 2.13, \"timestamp\": \"2025-08-08T21:17:23.664391+00:00\"}\n",
            "{\"message\": \"process initialized\", \"level\": \"INFO\", \"name\": \"livekit.agents\", \"pid\": 31817, \"elapsed_time\": 2.22, \"timestamp\": \"2025-08-08T21:17:23.754658+00:00\"}\n",
            "{\"message\": \"registered worker\", \"level\": \"INFO\", \"name\": \"livekit.agents\", \"id\": \"AW_7ADyZ74cYRHg\", \"url\": \"wss://giganci-programowania-ai-poc-an8zja0j.livekit.cloud\", \"region\": \"Japan\", \"protocol\": 16, \"timestamp\": \"2025-08-08T21:17:23.967188+00:00\"}\n",
            "{\"message\": \"received job request\", \"level\": \"INFO\", \"name\": \"livekit.agents\", \"job_id\": \"AJ_dpvx37pppvPT\", \"dispatch_id\": \"\", \"room_name\": \"playground-D0Oa-PbtS\", \"agent_name\": \"\", \"resuming\": false, \"timestamp\": \"2025-08-08T21:18:19.459389+00:00\"}\n",
            "{\"message\": \"initializing process\", \"level\": \"INFO\", \"name\": \"livekit.agents\", \"pid\": 32064, \"timestamp\": \"2025-08-08T21:18:19.523840+00:00\"}\n",
            "Wczytuję plik PDF: Konspekt - Batyskaf.docx.pdf\n",
            "{\"message\": \"process initialized\", \"level\": \"INFO\", \"name\": \"livekit.agents\", \"pid\": 32064, \"elapsed_time\": 1.19, \"timestamp\": \"2025-08-08T21:18:20.712295+00:00\"}\n",
            "{\"message\": \"closing agent session due to participant disconnect (disable via `RoomInputOptions.close_on_disconnect=False`)\", \"level\": \"INFO\", \"name\": \"livekit.agents\", \"participant\": \"identity-NtPv\", \"reason\": \"CLIENT_INITIATED\", \"pid\": 31815, \"job_id\": \"AJ_dpvx37pppvPT\", \"timestamp\": \"2025-08-08T21:35:19.848640+00:00\"}\n",
            "{\"message\": \"process exiting\", \"level\": \"INFO\", \"name\": \"livekit.agents\", \"reason\": \"\", \"pid\": 31815, \"job_id\": \"AJ_dpvx37pppvPT\", \"timestamp\": \"2025-08-08T21:35:41.268942+00:00\"}\n",
            "{\"message\": \"livekit::rtc_engine:453:livekit::rtc_engine - received session close: \\\"signal client closed: \\\\\\\"stream closed\\\\\\\"\\\" UnknownReason Resume\", \"level\": \"WARNING\", \"name\": \"livekit\", \"pid\": 31815, \"job_id\": \"AJ_dpvx37pppvPT\", \"timestamp\": \"2025-08-08T21:35:41.267826+00:00\"}\n",
            "{\"message\": \"received job request\", \"level\": \"INFO\", \"name\": \"livekit.agents\", \"job_id\": \"AJ_ckRK3m2HFBQr\", \"dispatch_id\": \"\", \"room_name\": \"playground-qCMN-O5ts\", \"agent_name\": \"\", \"resuming\": false, \"timestamp\": \"2025-08-08T21:38:55.855260+00:00\"}\n",
            "{\"message\": \"initializing process\", \"level\": \"INFO\", \"name\": \"livekit.agents\", \"pid\": 37084, \"timestamp\": \"2025-08-08T21:38:55.957925+00:00\"}\n",
            "Wczytuję plik PDF: Konspekt - Batyskaf.docx.pdf\n",
            "{\"message\": \"process initialized\", \"level\": \"INFO\", \"name\": \"livekit.agents\", \"pid\": 37084, \"elapsed_time\": 1.08, \"timestamp\": \"2025-08-08T21:38:57.042982+00:00\"}\n",
            "{\"message\": \"closing agent session due to participant disconnect (disable via `RoomInputOptions.close_on_disconnect=False`)\", \"level\": \"INFO\", \"name\": \"livekit.agents\", \"participant\": \"identity-sFgL\", \"reason\": \"CLIENT_INITIATED\", \"pid\": 31817, \"job_id\": \"AJ_ckRK3m2HFBQr\", \"timestamp\": \"2025-08-08T21:42:53.325679+00:00\"}\n",
            "{\"message\": \"draining worker\", \"level\": \"INFO\", \"name\": \"livekit.agents\", \"id\": \"AW_7ADyZ74cYRHg\", \"timeout\": 1800, \"timestamp\": \"2025-08-08T21:43:09.810292+00:00\"}\n",
            "{\"message\": \"exiting forcefully\", \"level\": \"WARNING\", \"name\": \"livekit.agents\", \"timestamp\": \"2025-08-08T21:43:09.811654+00:00\"}\n"
          ]
        }
      ]
    },
    {
      "cell_type": "markdown",
      "source": [
        "## ✅ Jak przetestować agenta AI (LiveKit Playground)\n",
        "Otwórz LiveKit Agents Playground\n",
        "➡️ https://agents-playground.livekit.io\n",
        "\n",
        "Połącz się z agentem.\n"
      ],
      "metadata": {
        "id": "B6wCWEoDDbmV"
      }
    }
  ],
  "metadata": {
    "colab": {
      "provenance": []
    },
    "kernelspec": {
      "display_name": "Python 3",
      "name": "python3"
    },
    "language_info": {
      "name": "python"
    }
  },
  "nbformat": 4,
  "nbformat_minor": 0
}